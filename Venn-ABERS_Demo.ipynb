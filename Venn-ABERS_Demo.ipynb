{
 "cells": [
  {
   "cell_type": "markdown",
   "metadata": {},
   "source": [
    "# Venn-ABERS demo\n",
    "\n",
    "This interactive notebook illustrates some of the inner workings of the Venn-ABERS predictors, with detailed visualizations.\n",
    "\n",
    "It is not meant to showcase the strengths and limitations, but only to provide insight into the method operates.\n",
    "\n",
    "\n",
    "Author: Paolo Toccaceli, RHUL, 2018"
   ]
  },
  {
   "cell_type": "code",
   "execution_count": 1,
   "metadata": {
    "ExecuteTime": {
     "end_time": "2017-07-24T18:09:17.605366Z",
     "start_time": "2017-07-24T18:09:17.355672Z"
    }
   },
   "outputs": [],
   "source": [
    "import numpy as np"
   ]
  },
  {
   "cell_type": "code",
   "execution_count": 2,
   "metadata": {
    "ExecuteTime": {
     "end_time": "2017-07-24T18:09:18.211057Z",
     "start_time": "2017-07-24T18:09:17.606891Z"
    }
   },
   "outputs": [],
   "source": [
    "import matplotlib.pyplot as plt\n",
    "%matplotlib inline"
   ]
  },
  {
   "cell_type": "code",
   "execution_count": 3,
   "metadata": {},
   "outputs": [],
   "source": [
    "import matplotlib\n",
    "matplotlib.rcParams['figure.figsize']=(14,10)"
   ]
  },
  {
   "cell_type": "code",
   "execution_count": 4,
   "metadata": {},
   "outputs": [
    {
     "data": {
      "text/html": [
       "<style>.container { width:100% !important; }</style>"
      ],
      "text/plain": [
       "<IPython.core.display.HTML object>"
      ]
     },
     "metadata": {},
     "output_type": "display_data"
    },
    {
     "data": {
      "text/html": [
       "<style>.text_cell_render { font-size: 16pt; }</style>"
      ],
      "text/plain": [
       "<IPython.core.display.HTML object>"
      ]
     },
     "metadata": {},
     "output_type": "display_data"
    }
   ],
   "source": [
    "from IPython.core.display import display, HTML\n",
    "display(HTML(\"<style>.container { width:100% !important; }</style>\"))\n",
    "display(HTML('<style>.text_cell_render { font-size: 16pt; }</style>'))"
   ]
  },
  {
   "cell_type": "code",
   "execution_count": 5,
   "metadata": {},
   "outputs": [],
   "source": [
    "from ipywidgets import interact,FloatSlider,Layout,fixed"
   ]
  },
  {
   "cell_type": "code",
   "execution_count": 6,
   "metadata": {},
   "outputs": [],
   "source": [
    "from sklearn.isotonic import IsotonicRegression"
   ]
  },
  {
   "cell_type": "code",
   "execution_count": 7,
   "metadata": {
    "ExecuteTime": {
     "end_time": "2017-07-24T18:09:19.731810Z",
     "start_time": "2017-07-24T18:09:19.721495Z"
    }
   },
   "outputs": [],
   "source": [
    "import VennABERS"
   ]
  },
  {
   "cell_type": "code",
   "execution_count": 8,
   "metadata": {},
   "outputs": [],
   "source": [
    "def sigmoid(x,m=1,x0=0,y0=0):\n",
    "    return np.exp(-np.logaddexp(0,-m*x+x0))-y0"
   ]
  },
  {
   "cell_type": "code",
   "execution_count": 9,
   "metadata": {
    "ExecuteTime": {
     "end_time": "2017-07-24T18:09:42.252057Z",
     "start_time": "2017-07-24T18:09:41.832373Z"
    }
   },
   "outputs": [],
   "source": [
    "def display_VennABERS(s,p0_sweep,p1_sweep,cal_scores,y_cal):\n",
    "    # score_sweep\n",
    "    f,((ax2,ax1),(ax3,ax4)) = plt.subplots(2,2)\n",
    "    ax1.plot(score_sweep,p0_sweep,\"g.\",label=\"$p_0$\");\n",
    "    ax1.plot(score_sweep,p1_sweep,\"r.\",label=\"$p_1$\");\n",
    "    ax1.vlines(s,0,1,'b')    \n",
    "    ax1.set_ylim(0,1)\n",
    "    ax1.set_xlabel(\"Score\")\n",
    "    ax1.set_ylabel(\"Predicted $p_0$,$p_1$\")\n",
    "    ax1.set_title(\"Venn-ABERS calibrator\")\n",
    "    ax1.legend(loc=\"upper left\")\n",
    "\n",
    "    ir = IsotonicRegression()\n",
    "    \n",
    "    xr = np.r_[cal_scores,s]\n",
    "    xr_as = np.argsort(xr)\n",
    "    x = xr[xr_as]\n",
    "\n",
    "    y = np.r_[y_cal,0][xr_as]\n",
    "    ir.fit(x,y)\n",
    "    p0 = ir.predict(x)\n",
    "    \n",
    "    _,i_p0 = np.unique(p0,return_index=True)\n",
    "    x_bins = np.r_[x[i_p0],np.max(x)]\n",
    "    ax3.hist((x[y==1],x[y==0]),\n",
    "             bins=x_bins,\n",
    "             stacked=True,\n",
    "             alpha=0.3,lw=1,ec=\"k\",label=['Positive','Negative'])\n",
    "    ax3.vlines(s,0,1,'b')    \n",
    "    ax3.set_title(\"Taxonomy for $p_0$ at $%f$\"%s)\n",
    "    leg = ax3.legend(loc='upper right')\n",
    "    leg.get_frame().set_alpha(0.5)\n",
    "    \n",
    "    y = np.r_[y_cal,1][xr_as]\n",
    "    ir.fit(x,y)\n",
    "    p1 = ir.predict(x)\n",
    "\n",
    "    _,i_p1 = np.unique(p1,return_index=True)\n",
    "    x_bins = np.r_[x[i_p1],np.max(x)]\n",
    "    ax4.hist((x[y==1],x[y==0]),\n",
    "             bins=x_bins,\n",
    "             stacked=True,\n",
    "             alpha=0.3,lw=1,ec=\"k\",label=['Positive','Negative'])\n",
    "    ax4.vlines(s,0,1,'b')    \n",
    "    ax4.set_title(\"Taxonomy for $p_1$ at $%f$\"%s)\n",
    "    leg = ax4.legend(fancybox=True,loc='upper right')\n",
    "    leg.get_frame().set_alpha(0.5)\n",
    "    ax4.get_shared_y_axes().join(ax4,ax3)\n",
    "    ax3.autoscale()\n",
    "    \n",
    "    ax2.plot(x,p0,\"go\",label=\"ir for $y=0$\");\n",
    "    ax2.plot(x,p1,\"ro\",label=\"ir for $y=1$\",alpha=0.5);\n",
    "    ax2.vlines(s,0,1,'b')\n",
    "    ax2.set_ylim(0,1)\n",
    "    ax2.set_xlabel(\"Score\")\n",
    "    ax2.set_ylabel(\"Predicted $p_0$,$p_1$\")\n",
    "    ax2.set_title(\"Venn-ABERS predictor for $%f$\"%s)\n",
    "    ax2.legend(loc=\"upper left\")\n"
   ]
  },
  {
   "cell_type": "markdown",
   "metadata": {},
   "source": [
    "# Synthetic data\n",
    "\n",
    "We obtain some synthetic data, by generating binary labels (0 or 1) with a probability that depends directly on a *score*.\n",
    "\n",
    "Here, just as an example, we assume that the dependency can be expressed with a sigmoid of the scores.\n",
    "A stochastic component is added (variates from a normal distribution). "
   ]
  },
  {
   "cell_type": "code",
   "execution_count": 10,
   "metadata": {},
   "outputs": [],
   "source": [
    "np.random.seed(101)   # for reproducibility"
   ]
  },
  {
   "cell_type": "code",
   "execution_count": 11,
   "metadata": {},
   "outputs": [],
   "source": [
    "cal_scores = np.linspace(-10,2,100)                # range is deliberately arbitrary\n",
    "base_s = sigmoid(cal_scores,m=0.5,y0=0.7,x0=-2)\n",
    "s = base_s + 0.2*np.random.normal(size=cal_scores.shape)\n",
    "y_cal = s>0                                       # labels are obtained as thresholding (>0) of sigmoid plus noise"
   ]
  },
  {
   "cell_type": "code",
   "execution_count": 12,
   "metadata": {},
   "outputs": [
    {
     "data": {
      "image/png": "[encoded data removed]",
      "text/plain": [
       "<matplotlib.figure.Figure at 0x7fb5791b50b8>"
      ]
     },
     "metadata": {},
     "output_type": "display_data"
    }
   ],
   "source": [
    "f,ax = plt.subplots()\n",
    "ax.plot(cal_scores,y_cal,\"g^\",label=\"Labels\");\n",
    "ax.plot(cal_scores,base_s,lw=3);\n",
    "ax.plot(cal_scores,s,alpha=0.1)\n",
    "ax.legend(loc='upper left')\n",
    "ax.set_xlabel(\"Score\");\n"
   ]
  },
  {
   "cell_type": "code",
   "execution_count": 13,
   "metadata": {
    "ExecuteTime": {
     "end_time": "2017-07-24T18:09:38.987550Z",
     "start_time": "2017-07-24T18:09:36.836073Z"
    }
   },
   "outputs": [],
   "source": [
    "calibrPoints = list(zip(cal_scores,y_cal))\n",
    "\n",
    "p0,p1 = VennABERS.ScoresToMultiProbs(calibrPoints,cal_scores)"
   ]
  },
  {
   "cell_type": "code",
   "execution_count": 14,
   "metadata": {
    "ExecuteTime": {
     "end_time": "2017-07-24T18:09:39.025340Z",
     "start_time": "2017-07-24T18:09:38.988988Z"
    }
   },
   "outputs": [],
   "source": [
    "score_sweep = np.linspace(np.min(cal_scores),np.max(cal_scores),400)\n",
    "# The small step is to identify all VA interval \n",
    "# (it was actually obtained by lowering until no difference was found in np.unique(p1_sweep).shape below)"
   ]
  },
  {
   "cell_type": "code",
   "execution_count": 15,
   "metadata": {
    "ExecuteTime": {
     "end_time": "2017-07-24T18:09:41.305398Z",
     "start_time": "2017-07-24T18:09:39.027007Z"
    }
   },
   "outputs": [],
   "source": [
    "p0_sweep,p1_sweep = VennABERS.ScoresToMultiProbs(calibrPoints,score_sweep)"
   ]
  },
  {
   "cell_type": "code",
   "execution_count": 16,
   "metadata": {
    "ExecuteTime": {
     "end_time": "2017-07-24T18:09:41.568414Z",
     "start_time": "2017-07-24T18:09:41.306948Z"
    }
   },
   "outputs": [
    {
     "data": {
      "text/plain": [
       "((20,), (52,))"
      ]
     },
     "execution_count": 16,
     "metadata": {},
     "output_type": "execute_result"
    }
   ],
   "source": [
    "np.unique(p0_sweep).shape, np.unique(p1_sweep).shape"
   ]
  },
  {
   "cell_type": "code",
   "execution_count": 17,
   "metadata": {
    "ExecuteTime": {
     "end_time": "2017-07-24T18:09:41.830716Z",
     "start_time": "2017-07-24T18:09:41.569917Z"
    }
   },
   "outputs": [],
   "source": [
    "p0_bins = np.concatenate((np.unique(p0_sweep),[1.0]))\n",
    "p1_bins = np.concatenate(([0.0],np.unique(p1_sweep)))"
   ]
  },
  {
   "cell_type": "markdown",
   "metadata": {},
   "source": [
    "# Venn-ABERS interactive demonstration"
   ]
  },
  {
   "cell_type": "markdown",
   "metadata": {},
   "source": [
    "The interactive display below illustrates some key aspects of Venn-ABERS predictors.\n",
    "\n",
    "In the top row, the plot on the right show the values of the predicted $p_0$ and $p_1$ as the value of the score $s$ varies.\n",
    "\n",
    "The plot on the left shows the Isotonic Regressions that are calculated for each value $s$. There are 2 Isotonic Regressions, one obtained adding a hypothetical example $(s,0)$ to the calibration set and another obtained adding $(s,1)$. The value at $s$ of the former IR is what we take as $p_0(s)$ and the value at $s$ of the latter IR gives us $p_1(s)$. The intervals over which the IR is constant constitute the categories of the taxonomy of the Venn predictor. They are the intervals over which the distributions are computed.\n",
    "\n",
    "Note that the taxonomy changes when $s$ changes. This may be counterintuitive. The taxonomy changes because we are adding a hypothetical example ($(s,0)$ in one case or $(s,1)$ in the other) to the set over which we are seeking the probability assignment (non-decreasing in $s$) that maximizes the likelihood. The theoretical basis of the method enables us to use Isotonic Regression which aims to minimize the sum of square residues. This results in a piecewise continuous function. The value of the IR is the proportion of positive labels among the calibration set of objects falling in the interval. \n",
    "\n",
    "In more concrete terms, let's consider what happens when we already computed an IR and we add a point. The point falls in a interval where the IR is constant and takes the value of the proportion of positive examples.  If we were to add an example there, we would change this proportion, increasing it if adding an example with label 1 and decreasing if adding an example with label 0. One can immediately realize that the taxonomy has to change if as a result the new proportion is less than the one in the preceding interval or greater than the one in the successive interval, because this would violate the isotonicity."
   ]
  },
  {
   "cell_type": "code",
   "execution_count": 18,
   "metadata": {},
   "outputs": [
    {
     "data": {
      "application/vnd.jupyter.widget-view+json": {
       "model_id": "12882ecaeaca445ea9e867a225e53449",
       "version_major": 2,
       "version_minor": 0
      },
      "text/html": [
       "<p>Failed to display Jupyter Widget of type <code>interactive</code>.</p>\n",
       "<p>\n",
       "  If you're reading this message in the Jupyter Notebook or JupyterLab Notebook, it may mean\n",
       "  that the widgets JavaScript is still loading. If this message persists, it\n",
       "  likely means that the widgets JavaScript library is either not installed or\n",
       "  not enabled. See the <a href=\"https://ipywidgets.readthedocs.io/en/stable/user_install.html\">Jupyter\n",
       "  Widgets Documentation</a> for setup instructions.\n",
       "</p>\n",
       "<p>\n",
       "  If you're reading this message in another frontend (for example, a static\n",
       "  rendering on GitHub or <a href=\"https://nbviewer.jupyter.org/\">NBViewer</a>),\n",
       "  it may mean that your frontend doesn't currently support widgets.\n",
       "</p>\n"
      ],
      "text/plain": [
       "interactive(children=(FloatSlider(value=0.0, continuous_update=False, description='s', layout=Layout(width='50%'), max=2.0, min=-10.0, step=0.01), Output()), _dom_classes=('widget-interact',))"
      ]
     },
     "metadata": {},
     "output_type": "display_data"
    }
   ],
   "source": [
    "interact(display_VennABERS,\n",
    "         s = FloatSlider(value=0,min=-10,max=2,step=0.01,\n",
    "                              layout=Layout(width='50%'),continuous_update=False),\n",
    "         p0_sweep = fixed(p0_sweep),\n",
    "         p1_sweep = fixed(p1_sweep),\n",
    "         cal_scores = fixed(cal_scores),\n",
    "         y_cal= fixed(y_cal));"
   ]
  },
  {
   "cell_type": "markdown",
   "metadata": {},
   "source": [
    "The bottom row has plots that may help illustrating how the taxonomies vary. \n",
    "\n",
    "The plots show the taxonomies induced by the Venn-ABERS on the \"calibration set plus $(s,0)$\" on the left and \"calibration set plus $(s,1)$\" on the right. \n",
    "\n",
    "Each bin corresponds to one category in the taxonomy. The bar heights show the counts of positive examples (in blue) and of negative examples (in beige).\n",
    "\n",
    "In each bin, we calculate the proportion of calibration set examples belonging to the Positive class. This value is the predicted probability and is shared by all the objects that fall in the bin. Note, for a given calibration set, the value of the predicted probability on a bin depends only on the choice of the edges of the bin.\n",
    "The bins are determined by the Isotonic Regression, so that the sum of square residues between predicted probabilities and actual labels over the examples of the calibration set is minimized (a theorem by Brunk shows that the probabilities obtained in this also minimize the likelihood of calibration data).\n",
    "\n",
    "Note that, in fact, we are only interested in the predicted probability in the bin in which the test example falls. This is the probability output by the Venn-ABERS predictor; $p_0$ is taken from the taxonomy on the left and $p_1$ from the taxonomy on the right."
   ]
  }
 ],
 "metadata": {
  "kernelspec": {
   "display_name": "Python 3",
   "language": "python",
   "name": "python3"
  },
  "language_info": {
   "codemirror_mode": {
    "name": "ipython",
    "version": 3
   },
   "file_extension": ".py",
   "mimetype": "text/x-python",
   "name": "python",
   "nbconvert_exporter": "python",
   "pygments_lexer": "ipython3",
   "version": "3.6.4"
  },
  "widgets": {
   "state": {},
   "version": "1.1.2"
  }
 },
 "nbformat": 4,
 "nbformat_minor": 1
}
